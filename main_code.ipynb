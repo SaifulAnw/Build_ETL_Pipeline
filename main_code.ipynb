{
 "cells": [
  {
   "cell_type": "code",
   "execution_count": 1,
   "metadata": {},
   "outputs": [],
   "source": [
    "import pandas as pd\n",
    "from sqlalchemy import create_engine\n",
    "import pyodbc"
   ]
  },
  {
   "cell_type": "code",
   "execution_count": 2,
   "metadata": {},
   "outputs": [],
   "source": [
    "# Database credentials\n",
    "driver = '{ODBC Driver 17 for SQL Server}'\n",
    "server1 = 'LAPTOP-ALOSMCSV' \n",
    "database1 = 'AdventureWorks2022;'\n",
    "\n",
    "server2 = 'LAPTOP-ALOSMCSV' \n",
    "database2 = 'AdventureWorksDW2019;'"
   ]
  },
  {
   "cell_type": "code",
   "execution_count": 3,
   "metadata": {},
   "outputs": [],
   "source": [
    "# Connect SQL Server Management Studio to Python\n",
    "conn = pyodbc.connect('DRIVER=' + driver + ';SERVER=' + server1 + '\\SQLEXPRESS' + ';DATABASE=' + database1 + ';SERVER=' + server2 + '\\SQLEXPRESS' +';DATABASE=' + database2 + ';Trusted_Connection=yes;')\n",
    "cursor = conn.cursor() "
   ]
  },
  {
   "cell_type": "code",
   "execution_count": 4,
   "metadata": {},
   "outputs": [
    {
     "name": "stdout",
     "output_type": "stream",
     "text": [
      "Show Data 1: \n",
      "\n",
      "('Accounting Manager', datetime.datetime(2008, 4, 30, 0, 0))\n",
      "('Assistant Sales Agent', datetime.datetime(2008, 4, 30, 0, 0))\n",
      "('Assistant Sales Representative', datetime.datetime(2008, 4, 30, 0, 0))\n",
      "('Coordinator Foreign Markets', datetime.datetime(2008, 4, 30, 0, 0))\n",
      "('Export Administrator', datetime.datetime(2008, 4, 30, 0, 0))\n",
      "('International Marketing Manager', datetime.datetime(2008, 4, 30, 0, 0))\n",
      "('Marketing Assistant', datetime.datetime(2008, 4, 30, 0, 0))\n",
      "('Marketing Manager', datetime.datetime(2008, 4, 30, 0, 0))\n",
      "('Marketing Representative', datetime.datetime(2008, 4, 30, 0, 0))\n",
      "('Order Administrator', datetime.datetime(2008, 4, 30, 0, 0))\n",
      "('Owner', datetime.datetime(2008, 4, 30, 0, 0))\n",
      "('Owner/Marketing Assistant', datetime.datetime(2008, 4, 30, 0, 0))\n",
      "('Product Manager', datetime.datetime(2008, 4, 30, 0, 0))\n",
      "('Purchasing Agent', datetime.datetime(2008, 4, 30, 0, 0))\n",
      "('Purchasing Manager', datetime.datetime(2008, 4, 30, 0, 0))\n",
      "('Regional Account Representative', datetime.datetime(2008, 4, 30, 0, 0))\n",
      "('Sales Agent', datetime.datetime(2008, 4, 30, 0, 0))\n",
      "('Sales Associate', datetime.datetime(2008, 4, 30, 0, 0))\n",
      "('Sales Manager', datetime.datetime(2008, 4, 30, 0, 0))\n",
      "('Sales Representative', datetime.datetime(2008, 4, 30, 0, 0))\n"
     ]
    }
   ],
   "source": [
    "# Extract data from AdventureWorks2022\n",
    "print(\"Show Data 1: \\n\")\n",
    "sql_query1 = \"SELECT TOP (1000) [Name],[ModifiedDate] FROM [AdventureWorks2022].[Person].[ContactType]\"\n",
    "cursor.execute(sql_query1)\n",
    "for row in cursor:\n",
    "    print(row)\n",
    "\n",
    "results1 = cursor.fetchall()\n",
    "df1 = pd.DataFrame(results1)"
   ]
  },
  {
   "cell_type": "code",
   "execution_count": 5,
   "metadata": {},
   "outputs": [
    {
     "name": "stdout",
     "output_type": "stream",
     "text": [
      "Show Final Data 1: \n",
      "\n",
      "('Accounting Manager', '2008-04-30')\n",
      "('Assistant Sales Agent', '2008-04-30')\n",
      "('Assistant Sales Representative', '2008-04-30')\n",
      "('Coordinator Foreign Markets', '2008-04-30')\n",
      "('Export Administrator', '2008-04-30')\n",
      "('International Marketing Manager', '2008-04-30')\n",
      "('Marketing Assistant', '2008-04-30')\n",
      "('Marketing Manager', '2008-04-30')\n",
      "('Marketing Representative', '2008-04-30')\n",
      "('Order Administrator', '2008-04-30')\n",
      "('Owner', '2008-04-30')\n",
      "('Owner/Marketing Assistant', '2008-04-30')\n",
      "('Product Manager', '2008-04-30')\n",
      "('Purchasing Agent', '2008-04-30')\n",
      "('Purchasing Manager', '2008-04-30')\n",
      "('Regional Account Representative', '2008-04-30')\n",
      "('Sales Agent', '2008-04-30')\n",
      "('Sales Associate', '2008-04-30')\n",
      "('Sales Manager', '2008-04-30')\n",
      "('Sales Representative', '2008-04-30')\n"
     ]
    }
   ],
   "source": [
    "# Extract data from AdventureWorks2022\n",
    "print(\"Show Final Data 1: \\n\")\n",
    "delete_null = \"SELECT TOP (1000) [Name],CONVERT(varchar(10), CAST([ModifiedDate] AS DATE), 120) AS ModifiedDate FROM [AdventureWorks2022].[Person].[ContactType]\"\n",
    "cursor.execute(delete_null)\n",
    "for row in cursor:\n",
    "    print(row)\n",
    "\n",
    "final_results1 = cursor.fetchall()\n",
    "df1_final = pd.DataFrame(final_results1)"
   ]
  },
  {
   "cell_type": "code",
   "execution_count": 8,
   "metadata": {},
   "outputs": [
    {
     "name": "stdout",
     "output_type": "stream",
     "text": [
      "Show Data 2: \n",
      "\n",
      "('Mountain Bikes', 'Bicicleta de montaña', 'VTT')\n",
      "('Road Bikes', 'Bicicleta de carretera', 'Vélo de route')\n",
      "('Touring Bikes', 'Bicicleta de paseo', 'Vélo de randonnée')\n",
      "('Handlebars', 'Barra', \"Barre d'appui\")\n",
      "('Bottom Brackets', 'Eje de pedalier', 'Axe de pédalier')\n",
      "('Brakes', 'Frenos', 'Freins')\n",
      "('Chains', 'Cadena', 'Chaîne')\n",
      "('Cranksets', 'Bielas', 'Pédalier')\n",
      "('Derailleurs', 'Desviador', 'Dérailleur')\n",
      "('Forks', 'Horquilla', 'Fourche')\n",
      "('Headsets', 'Dirección', 'Jeu de direction')\n",
      "('Mountain Frames', 'Cuadro de montaña', 'Cadre de VTT')\n",
      "('Pedals', 'Pedal', 'Pédale')\n",
      "('Road Frames', 'Cuadro de carretera', 'Cadre de vélo de route')\n",
      "('Saddles', 'Sillín', 'Selle')\n",
      "('Touring Frames', 'Cuadro de paseo', 'Cadre de vélo de randonnée')\n",
      "('Wheels', 'Rueda', 'Roue')\n",
      "('Bib-Shorts', 'Culote corto', 'Cuissards avec bretelles')\n",
      "('Caps', 'Gorra', 'Casquette')\n",
      "('Gloves', 'Guantes', 'Gants')\n",
      "('Jerseys', 'Jersey', 'Maillot')\n",
      "('Shorts', 'Pantalones cortos', 'Cuissards')\n",
      "('Socks', 'Calcetines', 'Chaussettes')\n",
      "('Tights', 'Mallas', 'Collants')\n",
      "('Vests', 'Camiseta', 'Veste')\n",
      "('Bike Racks', 'Portabicicletas', 'Porte-vélo')\n",
      "('Bike Stands', 'Soporte para bicicletas', 'Range-vélo')\n",
      "('Bottles and Cages', 'Portabotellas y botella', 'Bidon et porte-bidon')\n",
      "('Cleaners', 'Limpiador', 'Nettoyant')\n",
      "('Fenders', 'Guardabarros', 'Garde-boue')\n",
      "('Helmets', 'Casco', 'Casque')\n",
      "('Hydration Packs', 'Sistema de hidratación', \"Sac d'hydratation\")\n",
      "('Lights', 'Luz', 'Éclairage')\n",
      "('Locks', 'Candado', 'Antivol')\n",
      "('Panniers', 'Cesta', 'Sacoche')\n",
      "('Pumps', 'Bomba', 'Pompe')\n",
      "('Tires and Tubes', 'Cubierta y cámara', 'Pneu et chambre à air')\n"
     ]
    }
   ],
   "source": [
    "# Extract data from AdventureWorksDW2019\n",
    "print(\"Show Data 2: \\n\")\n",
    "sql_query2 = \"SELECT TOP (1000) [EnglishProductSubcategoryName],[SpanishProductSubcategoryName],[FrenchProductSubcategoryName] FROM [AdventureWorksDW2019].[dbo].[DimProductSubcategory]\"  \n",
    "cursor.execute(sql_query2) \n",
    "for row in cursor:\n",
    "    print(row)\n",
    "\n",
    "results2 = cursor.fetchall()\n",
    "df2 = pd.DataFrame(results2)"
   ]
  },
  {
   "cell_type": "code",
   "execution_count": 7,
   "metadata": {},
   "outputs": [
    {
     "name": "stdout",
     "output_type": "stream",
     "text": [
     
